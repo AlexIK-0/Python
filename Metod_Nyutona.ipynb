{
 "cells": [
  {
   "cell_type": "markdown",
   "id": "above-arrow",
   "metadata": {
    "toc": true
   },
   "source": [
    "<h1>Table of Contents<span class=\"tocSkip\"></span></h1>\n",
    "<div class=\"toc\"><ul class=\"toc-item\"><li><span><a href=\"#13.-Метод-Ньютона\" data-toc-modified-id=\"13.-Метод-Ньютона-1\"><span class=\"toc-item-num\">1&nbsp;&nbsp;</span>13. Метод Ньютона</a></span></li><li><span><a href=\"#Вывод:\" data-toc-modified-id=\"Вывод:-2\"><span class=\"toc-item-num\">2&nbsp;&nbsp;</span>Вывод:</a></span></li></ul></div>"
   ]
  },
  {
   "cell_type": "markdown",
   "id": "convertible-answer",
   "metadata": {},
   "source": [
    "# 13. Метод Ньютона\n",
    "Метод Ньютона нахождения корня уравнения $f(x) = 0$ заключается в итерациях вида$$\n",
    "x_{i+1} = x_i - \\frac{f(x_i)}{f'(x_i)}.\n",
    "$$Написать функцию mynewton(f, df, [x0, x1]), реализующую метод Ньютона, где f – строка, задающая правую часть $f(x)$ уравнения, df – строка, задающая $f'(x)$, [x0, x1] – отрезок локализации. Функция должна возвращать найденный корень с макимально возможной точностью.\n",
    "\n",
    "Написать программу, тестирующую эту функцию и сравнивающую ее с scipy.optimize.newton, scipy.optimize.fsolve на уравнениях:$$\n",
    "x^3 - 2x - 5 = 0, \\qquad 0\\le x \\le 3\n",
    "$$(исторический пример Валлиса),$$\n",
    "\\sin x = 0, \\qquad 1 \\le x \\le 4,\n",
    "$$$$\n",
    "x^3  = 0.001, \\qquad -1 \\le x \\le 1,\n",
    "$$$$\n",
    "\\ln x + \\frac{2}{3} = 0, \\qquad 0 \\le x \\le 1,\n",
    "$$$$ \\mathop{\\rm sgn} (x-2)\\, \\sqrt{|x-2|} = 0, \\qquad 1 \\le x \\le 4, $$$$\n",
    " \\arctan x = \\frac{\\pi}{3}, \\qquad 0 \\le x \\le 5,\n",
    "$$$$\n",
    "\\frac{1}{x - \\pi} = 0, \\qquad 0 \\le x \\le 5.\n",
    "$$Программа должна печатать таблицу, в которой указываются найденные функциями mynewton, scipy.optimize.newton, scipy.optimize.fsolve решения, их относительные ошибки, и количества затраченных итераций. Сравнить и следать выводы."
   ]
  },
  {
   "cell_type": "markdown",
   "id": "logical-manchester",
   "metadata": {},
   "source": [
    "Импортируем нужные бибилиотеки"
   ]
  },
  {
   "cell_type": "code",
   "execution_count": 70,
   "id": "ethical-promotion",
   "metadata": {},
   "outputs": [],
   "source": [
    "import numpy as np\n",
    "import matplotlib.pyplot as plt\n",
    "import pandas as pd\n",
    "from scipy.optimize import newton, fsolve"
   ]
  },
  {
   "cell_type": "markdown",
   "id": "underlying-request",
   "metadata": {},
   "source": [
    "Реализуем собственную функцию Ньютона"
   ]
  },
  {
   "cell_type": "code",
   "execution_count": 71,
   "id": "sixth-drill",
   "metadata": {},
   "outputs": [],
   "source": [
    "eps = 0.00000000001\n",
    "\n",
    "def mynewton(f, df, x):\n",
    "    _x = (x[0] + x[1]) / 2\n",
    "    if(_x == 0):             #Для обработки ZeroDivision\n",
    "        _x = (_x + x[1])/2\n",
    "        \n",
    "    counter = 0\n",
    "    while np.abs(f(_x)) > eps:\n",
    "        counter += 1\n",
    "        _x = _x - float(f(_x))/df(_x)\n",
    "                \n",
    "    return _x, counter"
   ]
  },
  {
   "cell_type": "markdown",
   "id": "absolute-disabled",
   "metadata": {},
   "source": [
    "Напишем функции уравнений и их производных"
   ]
  },
  {
   "cell_type": "code",
   "execution_count": 72,
   "id": "alpine-marina",
   "metadata": {},
   "outputs": [],
   "source": [
    "def func1(x):\n",
    "    return x**3 - 2 * x - 5\n",
    "\n",
    "def der1(x):\n",
    "    return 3* x**2 - 2\n",
    "\n",
    "def func2(x):\n",
    "    return np.sin(x)\n",
    "\n",
    "def der2(x):\n",
    "    return np.cos(x)\n",
    "\n",
    "def func3(x):\n",
    "    return x**3 - 0.001\n",
    "\n",
    "def der3(x):\n",
    "    return 3 * x**2\n",
    "\n",
    "def func4(x):\n",
    "    return np.log(x) + 2/3\n",
    "\n",
    "def der4(x):\n",
    "    return 1/x\n",
    "\n",
    "def func5(x):\n",
    "    return np.arctan(x)- (np.pi / 3)\n",
    "\n",
    "def der5(x):\n",
    "    return 1 / (1 + x**2)\n",
    "\n",
    "def func6(x):\n",
    "    return 1 / (x - np.pi)\n",
    "\n",
    "def der6(x):\n",
    "    return -1 / ((x - np.pi)**2) "
   ]
  },
  {
   "cell_type": "markdown",
   "id": "average-fisher",
   "metadata": {},
   "source": [
    "Сформируем массивы функций, производных и значений X"
   ]
  },
  {
   "cell_type": "code",
   "execution_count": 73,
   "id": "binary-james",
   "metadata": {},
   "outputs": [],
   "source": [
    "funс = np.array([func1, func2, func3, func4, func5, func6])\n",
    "derivative = np.array([der1, der2, der3, der4, der5, der6])\n",
    "x = np.array([[0, 3], [1, 4], [-1, 1], [0, 1], [0, 5], [0, 5]])"
   ]
  },
  {
   "cell_type": "markdown",
   "id": "valued-analyst",
   "metadata": {},
   "source": [
    "Соберем результаты для внесения их  в таблицу"
   ]
  },
  {
   "cell_type": "code",
   "execution_count": 121,
   "id": "raising-domain",
   "metadata": {},
   "outputs": [
    {
     "name": "stderr",
     "output_type": "stream",
     "text": [
      "<ipython-input-72-c73c5dd453df>:20: RuntimeWarning: divide by zero encountered in log\n",
      "  return np.log(x) + 2/3\n",
      "C:\\Users\\SAAnd\\Envs\\coursePyUNN\\lib\\site-packages\\scipy\\optimize\\minpack.py:175: RuntimeWarning: The number of calls to function has reached maxfev = 400.\n",
      "  warnings.warn(msg, RuntimeWarning)\n"
     ]
    }
   ],
   "source": [
    "mynewt = []\n",
    "c_operations = []\n",
    "newt = []\n",
    "fsol = []\n",
    "relater = []\n",
    "count = 6\n",
    "\n",
    "for i in range(count):\n",
    "    res_mnewt = mynewton(funс[i], derivative[i], x[i])\n",
    "    mynewt.append(res_mnewt[0])\n",
    "    c_operations.append(res_mnewt[1])\n",
    "    \n",
    "    newt.append(newton(funс[i], x0 = x[i][0], x1 = x[i][1], disp = False))\n",
    "    \n",
    "    _x = (x[i][0] + x[i][1]) / 2\n",
    "    if(_x == 0):                  #Для обработки ZeroDivision\n",
    "        _x = (_x + x[i][1])/2\n",
    "        \n",
    "    res_fsol = fsolve(funс[i], x0 = _x)[0]\n",
    "    fsol.append(res_fsol)\n",
    "    \n",
    "    relater.append((res_fsol - res_mnewt[0]) / res_fsol * 100)"
   ]
  },
  {
   "cell_type": "markdown",
   "id": "heavy-baptist",
   "metadata": {},
   "source": [
    "Построим таблицу"
   ]
  },
  {
   "cell_type": "code",
   "execution_count": 124,
   "id": "original-marker",
   "metadata": {},
   "outputs": [
    {
     "data": {
      "text/html": [
       "<div>\n",
       "<style scoped>\n",
       "    .dataframe tbody tr th:only-of-type {\n",
       "        vertical-align: middle;\n",
       "    }\n",
       "\n",
       "    .dataframe tbody tr th {\n",
       "        vertical-align: top;\n",
       "    }\n",
       "\n",
       "    .dataframe thead th {\n",
       "        text-align: right;\n",
       "    }\n",
       "</style>\n",
       "<table border=\"1\" class=\"dataframe\">\n",
       "  <thead>\n",
       "    <tr style=\"text-align: right;\">\n",
       "      <th></th>\n",
       "      <th>mynewton</th>\n",
       "      <th>scipy Newton</th>\n",
       "      <th>scipy Fsolve</th>\n",
       "      <th>Количество итераций</th>\n",
       "      <th>Относительная ошибка</th>\n",
       "    </tr>\n",
       "  </thead>\n",
       "  <tbody>\n",
       "    <tr>\n",
       "      <th>x^3 - 2x - 5 = 0</th>\n",
       "      <td>2.094551e+00</td>\n",
       "      <td>2.094551e+00</td>\n",
       "      <td>2.094551e+00</td>\n",
       "      <td>6</td>\n",
       "      <td>0.000000e+00</td>\n",
       "    </tr>\n",
       "    <tr>\n",
       "      <th>sin(x) = 0</th>\n",
       "      <td>3.141593e+00</td>\n",
       "      <td>3.141593e+00</td>\n",
       "      <td>3.141593e+00</td>\n",
       "      <td>4</td>\n",
       "      <td>0.000000e+00</td>\n",
       "    </tr>\n",
       "    <tr>\n",
       "      <th>x^3 = 0.001</th>\n",
       "      <td>1.000000e-01</td>\n",
       "      <td>2.005443e-03</td>\n",
       "      <td>1.000000e-01</td>\n",
       "      <td>8</td>\n",
       "      <td>-2.361999e-11</td>\n",
       "    </tr>\n",
       "    <tr>\n",
       "      <th>ln(x) + 2/3 = 0</th>\n",
       "      <td>5.134171e-01</td>\n",
       "      <td>1.000000e+00</td>\n",
       "      <td>5.134171e-01</td>\n",
       "      <td>3</td>\n",
       "      <td>0.000000e+00</td>\n",
       "    </tr>\n",
       "    <tr>\n",
       "      <th>arctan(x) = pi / 3</th>\n",
       "      <td>1.732051e+00</td>\n",
       "      <td>1.732051e+00</td>\n",
       "      <td>1.732051e+00</td>\n",
       "      <td>5</td>\n",
       "      <td>1.153778e-13</td>\n",
       "    </tr>\n",
       "    <tr>\n",
       "      <th>1 / (x - pi) = 0</th>\n",
       "      <td>-1.763596e+11</td>\n",
       "      <td>-1.694444e+09</td>\n",
       "      <td>-1.129355e+83</td>\n",
       "      <td>38</td>\n",
       "      <td>1.000000e+02</td>\n",
       "    </tr>\n",
       "  </tbody>\n",
       "</table>\n",
       "</div>"
      ],
      "text/plain": [
       "                        mynewton  scipy Newton  scipy Fsolve  \\\n",
       "x^3 - 2x - 5 = 0    2.094551e+00  2.094551e+00  2.094551e+00   \n",
       "sin(x) = 0          3.141593e+00  3.141593e+00  3.141593e+00   \n",
       "x^3 = 0.001         1.000000e-01  2.005443e-03  1.000000e-01   \n",
       "ln(x) + 2/3 = 0     5.134171e-01  1.000000e+00  5.134171e-01   \n",
       "arctan(x) = pi / 3  1.732051e+00  1.732051e+00  1.732051e+00   \n",
       "1 / (x - pi) = 0   -1.763596e+11 -1.694444e+09 -1.129355e+83   \n",
       "\n",
       "                    Количество итераций  Относительная ошибка  \n",
       "x^3 - 2x - 5 = 0                      6          0.000000e+00  \n",
       "sin(x) = 0                            4          0.000000e+00  \n",
       "x^3 = 0.001                           8         -2.361999e-11  \n",
       "ln(x) + 2/3 = 0                       3          0.000000e+00  \n",
       "arctan(x) = pi / 3                    5          1.153778e-13  \n",
       "1 / (x - pi) = 0                     38          1.000000e+02  "
      ]
     },
     "execution_count": 124,
     "metadata": {},
     "output_type": "execute_result"
    }
   ],
   "source": [
    "index = [\"x^3 - 2x - 5 = 0\",\n",
    "         \"sin(x) = 0\",\n",
    "         \"x^3 = 0.001\",\n",
    "         \"ln(x) + 2/3 = 0\",\n",
    "         \"arctan(x) = pi / 3\",\n",
    "         \"1 / (x - pi) = 0\"]\n",
    "\n",
    "data = {\"mynewton\" : np.array(mynewt),\n",
    "        \"scipy Newton\" : np.array(newt),\n",
    "        \"scipy Fsolve\" : np.array(fsol),\n",
    "        \"Количество итераций\" : np.array(c_operations),\n",
    "        \"Относительная ошибка\" : np.array(relater)}\n",
    "\n",
    "\n",
    "d = pd.DataFrame(data, index=index)\n",
    "d"
   ]
  },
  {
   "cell_type": "markdown",
   "id": "promotional-moore",
   "metadata": {},
   "source": [
    "# Вывод:\n",
    "Метод Ньютона имеет достаточно простую реализацию и имеет хорошую точность."
   ]
  }
 ],
 "metadata": {
  "kernelspec": {
   "display_name": "Python UNN",
   "language": "python",
   "name": "coursepyunn"
  },
  "language_info": {
   "codemirror_mode": {
    "name": "ipython",
    "version": 3
   },
   "file_extension": ".py",
   "mimetype": "text/x-python",
   "name": "python",
   "nbconvert_exporter": "python",
   "pygments_lexer": "ipython3",
   "version": "3.9.2"
  },
  "toc": {
   "base_numbering": 1,
   "nav_menu": {},
   "number_sections": true,
   "sideBar": true,
   "skip_h1_title": false,
   "title_cell": "Table of Contents",
   "title_sidebar": "Contents",
   "toc_cell": true,
   "toc_position": {},
   "toc_section_display": true,
   "toc_window_display": false
  }
 },
 "nbformat": 4,
 "nbformat_minor": 5
}
